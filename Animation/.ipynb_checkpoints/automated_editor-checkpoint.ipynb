{
 "cells": [
  {
   "cell_type": "markdown",
   "id": "02c5d92c-dc40-4949-bb95-f84949a957c9",
   "metadata": {},
   "source": [
    "# Automated Editor"
   ]
  },
  {
   "cell_type": "code",
   "execution_count": 1,
   "id": "b7bcc434-648b-45e7-99dd-0d634d3eaf09",
   "metadata": {},
   "outputs": [],
   "source": [
    "import pandas as pd"
   ]
  },
  {
   "cell_type": "code",
   "execution_count": 2,
   "id": "8bc45db3-d41d-4f99-866d-de312597d1b6",
   "metadata": {},
   "outputs": [],
   "source": [
    "sheet_list = list(map(str, list(range(25, 62))))\n",
    "task_dict = {'图库': 'zoom',\n",
    "             '打开应用': 'zoom',\n",
    "             '近期任务': 'x',\n",
    "             '联系人列表': 'list',\n",
    "             '桌面滑动': 'x',\n",
    "             '父子转场': 'x',\n",
    "             '上弹窗': 'y',\n",
    "             '可滑动面板一': 'y',\n",
    "             '可滑动面板二': 'y',\n",
    "             '横竖屏切换': 'tilt'}"
   ]
  },
  {
   "cell_type": "markdown",
   "id": "7afa0782-7ba5-4572-adc2-180cfe440c64",
   "metadata": {},
   "source": [
    "After realizing the different sheets are called with their names, instead of their sequential orders, the decision is made to just rename all the sheets."
   ]
  },
  {
   "cell_type": "code",
   "execution_count": null,
   "id": "4ddf1f1d-cbba-48df-810c-e37ac4210719",
   "metadata": {},
   "outputs": [],
   "source": [
    "text = open('text.txt', 'w')\n",
    "task_list =  list(task_dict.keys())\n",
    "\n",
    "for i in range(10):\n",
    "    text.write('\\n' + task_list[i])\n",
    "        \n",
    "    for j in range(25, 62): # extracting all participants\n",
    "        df = pd.read_excel('./data/' + task_dict[task_list[i]] + '.xlsx', sheet_name=str(j))\n",
    "        text.write('\\n\\n使用者『' + str(j) + '』：\\n')\n",
    "\n",
    "        for k in range(2, 11): # parsing through all rows\n",
    "            if type(df[task_list[i]][k]) == str:\n",
    "                if k == 10:\n",
    "                    text.write('，总结：「' + df[task_list[i]][k] + '」')\n",
    "                else:\n",
    "                    text.write('「' + df[task_list[i]][k] + '」')"
   ]
  },
  {
   "cell_type": "markdown",
   "id": "dff68202-baf7-4427-b96e-52a0b6fda017",
   "metadata": {},
   "source": [
    "For some unknown reasons, the last responses of the last few people just cannot be recorded by the previous session. So the following section was compiled to retrieve the texts for manual edits."
   ]
  },
  {
   "cell_type": "code",
   "execution_count": null,
   "id": "61badf7e-b812-4b7e-9c02-d0c2ac950160",
   "metadata": {},
   "outputs": [],
   "source": [
    "text2 = open('text2.txt', 'w')\n",
    "for i in range(25, 62): # extracting all participants\n",
    "    df = pd.read_excel('./data/tilt.xlsx', sheet_name=str(i))\n",
    "    text2.write('\\n\\n使用者『' + str(i) + '』：\\n')\n",
    "\n",
    "    for j in range(2, 11): # parsing through all rows\n",
    "        if type(df['横竖屏切换'][j]) == str:\n",
    "            if j == 10:\n",
    "                text2.write('，总结：「' + df['横竖屏切换'][j] + '」')\n",
    "            else:\n",
    "                text2.write('「' + df['横竖屏切换'][j] + '」')"
   ]
  }
 ],
 "metadata": {
  "kernelspec": {
   "display_name": "Python 3",
   "language": "python",
   "name": "python3"
  },
  "language_info": {
   "codemirror_mode": {
    "name": "ipython",
    "version": 3
   },
   "file_extension": ".py",
   "mimetype": "text/x-python",
   "name": "python",
   "nbconvert_exporter": "python",
   "pygments_lexer": "ipython3",
   "version": "3.8.8"
  }
 },
 "nbformat": 4,
 "nbformat_minor": 5
}
