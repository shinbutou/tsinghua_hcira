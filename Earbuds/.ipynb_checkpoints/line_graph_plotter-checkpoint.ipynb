{
 "cells": [
  {
   "cell_type": "code",
   "execution_count": null,
   "id": "5ad23d54-f971-40b9-80a0-e75c0b3929b2",
   "metadata": {},
   "outputs": [],
   "source": [
    "import pandas as pd\n",
    "import numpy as np\n",
    "import matplotlib.pyplot as plt"
   ]
  },
  {
   "cell_type": "code",
   "execution_count": null,
   "id": "ef1a3b5b-2c21-484d-ab9d-ac1ce2c48ea4",
   "metadata": {},
   "outputs": [],
   "source": [
    "df = pd.read_excel('./data/pressure_raw.xlsx', sheet_name='整理后')"
   ]
  },
  {
   "cell_type": "code",
   "execution_count": null,
   "id": "783be197-cc56-4c7a-8bdb-e7d112036af6",
   "metadata": {},
   "outputs": [],
   "source": [
    "area_blu = df[df['测试区域'] == '蓝']\n",
    "area_gre = df[df['测试区域'] == '绿']\n",
    "area_red = df[df['测试区域'] == '红']\n",
    "area_pin = df[df['测试区域'] == '粉']\n",
    "area_yel = df[df['测试区域'] == '黄']\n",
    "\n",
    "pos_up = df[df['测试位置'] == '上']\n",
    "pos_mid = df[df['测试位置'] == '中']\n",
    "pos_bot = df[df['测试位置'] == '下']"
   ]
  },
  {
   "cell_type": "code",
   "execution_count": 33,
   "id": "d0e10487-a859-4548-aad0-fb7f26817896",
   "metadata": {},
   "outputs": [],
   "source": [
    "def fetch_value(df: pd.DataFrame, arg: str) -> float:\n",
    "    return df[arg].mean()"
   ]
  },
  {
   "cell_type": "code",
   "execution_count": 58,
   "id": "5281728e-1b4e-42d8-94c7-5e0d3aef24cd",
   "metadata": {},
   "outputs": [],
   "source": [
    "level_list = ['明显触觉', '轻微不适', '明显疼痛']\n",
    "\n",
    "area_blu_val, area_gre_val, area_red_val, area_pin_val, area_yel_val = [], [], [], [], []\n",
    "pos_up_val, pos_mid_val, pos_bot_val = [], [], []\n",
    "\n",
    "area_list = [area_blu, area_gre, area_red, area_pin, area_yel]\n",
    "pos_list = [pos_up, pos_mid, pos_bot]\n",
    "\n",
    "area_val_list = [area_blu_val, area_gre_val, area_red_val, area_pin_val, area_yel_val]\n",
    "pos_val_list = [pos_up_val, pos_mid_val, pos_bot_val]\n",
    "\n",
    "for i in range(len(level_list)):\n",
    "    for j in range(len(area_val_list)):\n",
    "        area_val_list[j].append(round(fetch_value(area_list[j], level_list[i]), 2))\n",
    "    for j in range(len(pos_val_list)):\n",
    "        pos_val_list[j].append(round(fetch_value(pos_list[j], level_list[i]), 2))"
   ]
  },
  {
   "cell_type": "code",
   "execution_count": 62,
   "id": "a685b73c-2637-493b-b250-cd2c24f5a0e7",
   "metadata": {},
   "outputs": [
    {
     "name": "stdout",
     "output_type": "stream",
     "text": [
      "[[8.11, 26.95, 42.11], [8.16, 25.85, 41.48], [6.34, 19.81, 32.2], [8.55, 32.11, 49.69], [5.36, 22.82, 37.72]]\n"
     ]
    }
   ],
   "source": [
    "print(area_val_list)"
   ]
  },
  {
   "cell_type": "code",
   "execution_count": 61,
   "id": "5955df3d-3b12-48ed-bbf3-ac028175cb4b",
   "metadata": {},
   "outputs": [
    {
     "name": "stdout",
     "output_type": "stream",
     "text": [
      "[[7.6, 26.4, 40.72], [6.91, 25.12, 41.93], [7.4, 25.01, 39.27]]\n"
     ]
    }
   ],
   "source": [
    "print(pos_val_list)"
   ]
  }
 ],
 "metadata": {
  "kernelspec": {
   "display_name": "Python 3",
   "language": "python",
   "name": "python3"
  },
  "language_info": {
   "codemirror_mode": {
    "name": "ipython",
    "version": 3
   },
   "file_extension": ".py",
   "mimetype": "text/x-python",
   "name": "python",
   "nbconvert_exporter": "python",
   "pygments_lexer": "ipython3",
   "version": "3.8.8"
  }
 },
 "nbformat": 4,
 "nbformat_minor": 5
}
