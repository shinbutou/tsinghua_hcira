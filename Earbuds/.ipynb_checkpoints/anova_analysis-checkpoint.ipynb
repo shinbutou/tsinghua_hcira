{
 "cells": [
  {
   "cell_type": "code",
   "execution_count": 1,
   "id": "7e16695e-3a81-420c-a11d-8e62ade679fe",
   "metadata": {},
   "outputs": [],
   "source": [
    "import numpy as np\n",
    "import pandas as pd"
   ]
  },
  {
   "cell_type": "code",
   "execution_count": null,
   "id": "9c75d5b0-0f2c-474c-8550-b2d82ace1c17",
   "metadata": {},
   "outputs": [],
   "source": [
    "# Data Adjustments\n",
    "raw = pd.read_excel('./data/pressure_raw.xlsx', sheet_name='整理后')\n",
    "\n",
    "for i in range(len(raw)):\n",
    "    # Female: 0; Male: 1\n",
    "    if raw['性别'][i] == '女':\n",
    "        raw['性别'][i] = 0\n",
    "    elif raw['性别'][i] == '男':\n",
    "        raw['性别'][i] = 1\n",
    "\n",
    "    # Left: 0; Right: 1\n",
    "    if raw['测试耳'][i] == '左':\n",
    "        raw['测试耳'][i] = 0\n",
    "    elif raw['测试耳'][i] == '右':\n",
    "        raw['测试耳'][i] = 1\n",
    "        \n",
    "    # Blue: 0; Green: 1; Red: 2; Pink: 3; Yellow: 4\n",
    "    if raw['测试区域'][i] == '蓝':\n",
    "        raw['测试区域'][i] = 0\n",
    "    elif raw['测试区域'][i] == '绿':\n",
    "        raw['测试区域'][i] = 1\n",
    "    elif raw['测试区域'][i] == '红':\n",
    "        raw['测试区域'][i] = 2\n",
    "    elif raw['测试区域'][i] == '粉':\n",
    "        raw['测试区域'][i] = 3\n",
    "    elif raw['测试区域'][i] == '黄':\n",
    "        raw['测试区域'][i] = 4\n",
    "        \n",
    "    # Top: 0; Middle: 1; Bottom: 2\n",
    "    if raw['测试位置'][i] == '上':\n",
    "        raw['测试位置'][i] = 0\n",
    "    elif raw['测试位置'][i] == '中':\n",
    "        raw['测试位置'][i] = 1\n",
    "    elif raw['测试位置'][i] == '下':\n",
    "        raw['测试位置'][i] = 2\n",
    "        \n",
    "new_col_names = ['Index', 'Name', 'Gender', 'Ear', 'Area', 'Position', 'LV4', 'LV6', 'LV8']\n",
    "\n",
    "df = raw.copy()\n",
    "df.columns = new_col_names\n",
    "\n",
    "df.to_csv('./data/raw.csv')"
   ]
  }
 ],
 "metadata": {
  "kernelspec": {
   "display_name": "Python 3",
   "language": "python",
   "name": "python3"
  },
  "language_info": {
   "codemirror_mode": {
    "name": "ipython",
    "version": 3
   },
   "file_extension": ".py",
   "mimetype": "text/x-python",
   "name": "python",
   "nbconvert_exporter": "python",
   "pygments_lexer": "ipython3",
   "version": "3.8.8"
  }
 },
 "nbformat": 4,
 "nbformat_minor": 5
}
