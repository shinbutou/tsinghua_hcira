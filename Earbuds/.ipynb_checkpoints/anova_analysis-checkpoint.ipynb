{
 "cells": [
  {
   "cell_type": "code",
   "execution_count": 1,
   "id": "7e16695e-3a81-420c-a11d-8e62ade679fe",
   "metadata": {
    "jupyter": {
     "source_hidden": true
    },
    "tags": []
   },
   "outputs": [],
   "source": [
    "import numpy as np\n",
    "import pandas as pd\n",
    "import matplotlib.pyplot as plt\n",
    "\n",
    "import researchpy as rp\n",
    "from scipy import stats as st\n",
    "from scipy.stats import f_oneway"
   ]
  },
  {
   "cell_type": "code",
   "execution_count": null,
   "id": "9c75d5b0-0f2c-474c-8550-b2d82ace1c17",
   "metadata": {},
   "outputs": [],
   "source": [
    "# Data Adjustments\n",
    "raw = pd.read_excel('./data/pressure_raw.xlsx', sheet_name='整理后')\n",
    "\n",
    "for i in range(len(raw)):\n",
    "    # Female: 0; Male: 1\n",
    "    if raw['性别'][i] == '女':\n",
    "        raw['性别'][i] = 0\n",
    "    elif raw['性别'][i] == '男':\n",
    "        raw['性别'][i] = 1\n",
    "\n",
    "    # Left: 0; Right: 1\n",
    "    if raw['测试耳'][i] == '左':\n",
    "        raw['测试耳'][i] = 0\n",
    "    elif raw['测试耳'][i] == '右':\n",
    "        raw['测试耳'][i] = 1\n",
    "        \n",
    "    # Blue: 0; Green: 1; Red: 2; Pink: 3; Yellow: 4\n",
    "    if raw['测试区域'][i] == '蓝':\n",
    "        raw['测试区域'][i] = 0\n",
    "    elif raw['测试区域'][i] == '绿':\n",
    "        raw['测试区域'][i] = 1\n",
    "    elif raw['测试区域'][i] == '红':\n",
    "        raw['测试区域'][i] = 2\n",
    "    elif raw['测试区域'][i] == '粉':\n",
    "        raw['测试区域'][i] = 3\n",
    "    elif raw['测试区域'][i] == '黄':\n",
    "        raw['测试区域'][i] = 4\n",
    "        \n",
    "    # Top: 0; Middle: 1; Bottom: 2\n",
    "    if raw['测试位置'][i] == '上':\n",
    "        raw['测试位置'][i] = 0\n",
    "    elif raw['测试位置'][i] == '中':\n",
    "        raw['测试位置'][i] = 1\n",
    "    elif raw['测试位置'][i] == '下':\n",
    "        raw['测试位置'][i] = 2\n",
    "        \n",
    "new_col_names = ['Index', 'Name', 'Gender', 'Ear', 'Area', 'Position', 'LV4', 'LV6', 'LV8']\n",
    "\n",
    "df = raw.copy()\n",
    "df.columns = new_col_names\n",
    "\n",
    "df.to_csv('./data/raw.csv')"
   ]
  },
  {
   "cell_type": "code",
   "execution_count": 3,
   "id": "cfba58e5-2990-4c25-ae5c-f77f0c5a22ec",
   "metadata": {},
   "outputs": [
    {
     "name": "stdout",
     "output_type": "stream",
     "text": [
      "\n",
      "\n"
     ]
    },
    {
     "data": {
      "text/html": [
       "<div>\n",
       "<style scoped>\n",
       "    .dataframe tbody tr th:only-of-type {\n",
       "        vertical-align: middle;\n",
       "    }\n",
       "\n",
       "    .dataframe tbody tr th {\n",
       "        vertical-align: top;\n",
       "    }\n",
       "\n",
       "    .dataframe thead th {\n",
       "        text-align: right;\n",
       "    }\n",
       "</style>\n",
       "<table border=\"1\" class=\"dataframe\">\n",
       "  <thead>\n",
       "    <tr style=\"text-align: right;\">\n",
       "      <th></th>\n",
       "      <th>Variable</th>\n",
       "      <th>N</th>\n",
       "      <th>Mean</th>\n",
       "      <th>SD</th>\n",
       "      <th>SE</th>\n",
       "      <th>95% Conf.</th>\n",
       "      <th>Interval</th>\n",
       "    </tr>\n",
       "  </thead>\n",
       "  <tbody>\n",
       "    <tr>\n",
       "      <th>0</th>\n",
       "      <td>LV8</td>\n",
       "      <td>180.0</td>\n",
       "      <td>40.6411</td>\n",
       "      <td>17.7727</td>\n",
       "      <td>1.3247</td>\n",
       "      <td>38.0271</td>\n",
       "      <td>43.2551</td>\n",
       "    </tr>\n",
       "  </tbody>\n",
       "</table>\n",
       "</div>"
      ],
      "text/plain": [
       "  Variable      N     Mean       SD      SE  95% Conf.  Interval\n",
       "0      LV8  180.0  40.6411  17.7727  1.3247    38.0271   43.2551"
      ]
     },
     "execution_count": 3,
     "metadata": {},
     "output_type": "execute_result"
    }
   ],
   "source": [
    "rp.summary_cont(df['LV8'])"
   ]
  },
  {
   "cell_type": "code",
   "execution_count": 24,
   "id": "8765489f-a6f9-4915-b736-47854f453510",
   "metadata": {},
   "outputs": [],
   "source": [
    "ldf = df[df['Ear'] == 0]\n",
    "rdf = df[df['Ear'] == 1]"
   ]
  },
  {
   "cell_type": "code",
   "execution_count": 25,
   "id": "3e2d1ed5-e57f-4fdc-873b-ec86dada8f9b",
   "metadata": {},
   "outputs": [
    {
     "data": {
      "text/plain": [
       "Ttest_indResult(statistic=0.9125894416470082, pvalue=0.36395189385956417)"
      ]
     },
     "execution_count": 25,
     "metadata": {},
     "output_type": "execute_result"
    }
   ],
   "source": [
    "# T-Test\n",
    "female_LV4 = ldf.loc[ldf['Gender'] == 0, 'LV4'].to_numpy()\n",
    "male_LV4 = ldf.loc[ldf['Gender'] == 1, 'LV4'].to_numpy()\n",
    "\n",
    "st.ttest_ind(a=female_LV4, b=male_LV4, equal_var=True)"
   ]
  },
  {
   "cell_type": "code",
   "execution_count": 26,
   "id": "86a66d8c-4638-4e54-80d6-3dcca3e8608b",
   "metadata": {},
   "outputs": [
    {
     "data": {
      "text/plain": [
       "Ttest_indResult(statistic=1.6532260060517676, pvalue=0.10184823946735053)"
      ]
     },
     "execution_count": 26,
     "metadata": {},
     "output_type": "execute_result"
    }
   ],
   "source": [
    "#\n",
    "female_LV4 = rdf.loc[rdf['Gender'] == 0, 'LV4'].to_numpy()\n",
    "male_LV4 = rdf.loc[rdf['Gender'] == 1, 'LV4'].to_numpy()\n",
    "\n",
    "st.ttest_ind(a=female_LV4, b=male_LV4, equal_var=True)"
   ]
  },
  {
   "cell_type": "code",
   "execution_count": 27,
   "id": "434855ad-bcf6-4a17-b4d5-2cffca7b297a",
   "metadata": {},
   "outputs": [
    {
     "data": {
      "text/plain": [
       "Ttest_indResult(statistic=-4.251557642493982, pvalue=5.270701233601655e-05)"
      ]
     },
     "execution_count": 27,
     "metadata": {},
     "output_type": "execute_result"
    }
   ],
   "source": [
    "female_LV6 = rdf.loc[rdf['Gender'] == 0, 'LV6'].to_numpy()\n",
    "male_LV6 = rdf.loc[rdf['Gender'] == 1, 'LV6'].to_numpy()\n",
    "\n",
    "st.ttest_ind(a=female_LV6, b=male_LV6, equal_var=True)"
   ]
  },
  {
   "cell_type": "code",
   "execution_count": 28,
   "id": "485fab98-0d39-4191-b388-6d5d66437f1a",
   "metadata": {},
   "outputs": [
    {
     "data": {
      "text/plain": [
       "Ttest_indResult(statistic=-4.8979586701135815, pvalue=4.3669530318025335e-06)"
      ]
     },
     "execution_count": 28,
     "metadata": {},
     "output_type": "execute_result"
    }
   ],
   "source": [
    "female_LV6 = ldf.loc[ldf['Gender'] == 0, 'LV6'].to_numpy()\n",
    "male_LV6 = ldf.loc[ldf['Gender'] == 1, 'LV6'].to_numpy()\n",
    "\n",
    "st.ttest_ind(a=female_LV6, b=male_LV6, equal_var=True)"
   ]
  },
  {
   "cell_type": "code",
   "execution_count": 29,
   "id": "fb7aa34a-45a1-4aa5-b0e1-7edf63744e91",
   "metadata": {
    "tags": []
   },
   "outputs": [
    {
     "data": {
      "text/plain": [
       "Ttest_indResult(statistic=-5.458045886994875, pvalue=4.3867801124578905e-07)"
      ]
     },
     "execution_count": 29,
     "metadata": {},
     "output_type": "execute_result"
    }
   ],
   "source": [
    "female_LV8 = ldf.loc[ldf['Gender'] == 0, 'LV8'].to_numpy()\n",
    "male_LV8 = ldf.loc[ldf['Gender'] == 1, 'LV8'].to_numpy()\n",
    "\n",
    "st.ttest_ind(a=female_LV8, b=male_LV8, equal_var=True)"
   ]
  },
  {
   "cell_type": "code",
   "execution_count": 30,
   "id": "951c66a9-4216-4c49-b47f-02f0278a7d39",
   "metadata": {},
   "outputs": [
    {
     "data": {
      "text/plain": [
       "Ttest_indResult(statistic=-6.165046651518311, pvalue=2.0793740280088097e-08)"
      ]
     },
     "execution_count": 30,
     "metadata": {},
     "output_type": "execute_result"
    }
   ],
   "source": [
    "female_LV8 = rdf.loc[rdf['Gender'] == 0, 'LV8'].to_numpy()\n",
    "male_LV8 = rdf.loc[rdf['Gender'] == 1, 'LV8'].to_numpy()\n",
    "\n",
    "st.ttest_ind(a=female_LV8, b=male_LV8, equal_var=True)"
   ]
  },
  {
   "cell_type": "code",
   "execution_count": 32,
   "id": "9397e8bb-58f5-42b5-94ef-86e2cd368ba4",
   "metadata": {},
   "outputs": [],
   "source": [
    "LV4_0l = ldf.loc[ldf['Area'] == 0, 'LV4'].tolist()\n",
    "LV4_1l = ldf.loc[ldf['Area'] == 1, 'LV4'].tolist()\n",
    "LV4_2l = ldf.loc[ldf['Area'] == 2, 'LV4'].tolist()\n",
    "LV4_3l = ldf.loc[ldf['Area'] == 3, 'LV4'].tolist()\n",
    "LV4_4l = ldf.loc[ldf['Area'] == 4, 'LV4'].tolist()\n",
    "\n",
    "LV6_0l = ldf.loc[ldf['Area'] == 0, 'LV6'].tolist()\n",
    "LV6_1l = ldf.loc[ldf['Area'] == 1, 'LV6'].tolist()\n",
    "LV6_2l = ldf.loc[ldf['Area'] == 2, 'LV6'].tolist()\n",
    "LV6_3l = ldf.loc[ldf['Area'] == 3, 'LV6'].tolist()\n",
    "LV6_4l = ldf.loc[ldf['Area'] == 4, 'LV6'].tolist()\n",
    "\n",
    "LV8_0l = ldf.loc[ldf['Area'] == 0, 'LV8'].tolist()\n",
    "LV8_1l = ldf.loc[ldf['Area'] == 1, 'LV8'].tolist()\n",
    "LV8_2l = ldf.loc[ldf['Area'] == 2, 'LV8'].tolist()\n",
    "LV8_3l = ldf.loc[ldf['Area'] == 3, 'LV8'].tolist()\n",
    "LV8_4l = ldf.loc[ldf['Area'] == 4, 'LV8'].tolist()\n",
    "\n",
    "LV4_0r = rdf.loc[rdf['Area'] == 0, 'LV4'].tolist()\n",
    "LV4_1r = rdf.loc[rdf['Area'] == 1, 'LV4'].tolist()\n",
    "LV4_2r = rdf.loc[rdf['Area'] == 2, 'LV4'].tolist()\n",
    "LV4_3r = rdf.loc[rdf['Area'] == 3, 'LV4'].tolist()\n",
    "LV4_4r = rdf.loc[rdf['Area'] == 4, 'LV4'].tolist()\n",
    "\n",
    "LV6_0r = rdf.loc[rdf['Area'] == 0, 'LV6'].tolist()\n",
    "LV6_1r = rdf.loc[rdf['Area'] == 1, 'LV6'].tolist()\n",
    "LV6_2r = rdf.loc[rdf['Area'] == 2, 'LV6'].tolist()\n",
    "LV6_3r = rdf.loc[rdf['Area'] == 3, 'LV6'].tolist()\n",
    "LV6_4r = rdf.loc[rdf['Area'] == 4, 'LV6'].tolist()\n",
    "\n",
    "LV8_0r = rdf.loc[rdf['Area'] == 0, 'LV8'].tolist()\n",
    "LV8_1r = rdf.loc[rdf['Area'] == 1, 'LV8'].tolist()\n",
    "LV8_2r = rdf.loc[rdf['Area'] == 2, 'LV8'].tolist()\n",
    "LV8_3r = rdf.loc[rdf['Area'] == 3, 'LV8'].tolist()\n",
    "LV8_4r = rdf.loc[rdf['Area'] == 4, 'LV8'].tolist()"
   ]
  },
  {
   "cell_type": "code",
   "execution_count": 36,
   "id": "aa260fd3-8b75-4e14-9065-b7d2115078e6",
   "metadata": {},
   "outputs": [
    {
     "data": {
      "text/plain": [
       "F_onewayResult(statistic=0.8087024823584457, pvalue=0.5230283933421602)"
      ]
     },
     "execution_count": 36,
     "metadata": {},
     "output_type": "execute_result"
    }
   ],
   "source": [
    "f_oneway(LV4_0l, LV4_1l, LV4_2l, LV4_3l, LV4_4l)"
   ]
  },
  {
   "cell_type": "code",
   "execution_count": 37,
   "id": "f0ae8704-2eea-4ecb-b7b5-445daea4ffe8",
   "metadata": {},
   "outputs": [
    {
     "data": {
      "text/plain": [
       "F_onewayResult(statistic=1.5946009594155095, pvalue=0.18317656612023134)"
      ]
     },
     "execution_count": 37,
     "metadata": {},
     "output_type": "execute_result"
    }
   ],
   "source": [
    "f_oneway(LV4_0r, LV4_1r, LV4_2r, LV4_3r, LV4_4r)"
   ]
  },
  {
   "cell_type": "code",
   "execution_count": 39,
   "id": "a49af9d3-6e84-42c9-8b95-3dded235db72",
   "metadata": {},
   "outputs": [
    {
     "data": {
      "text/plain": [
       "F_onewayResult(statistic=2.371697323481666, pvalue=0.058695927608663254)"
      ]
     },
     "execution_count": 39,
     "metadata": {},
     "output_type": "execute_result"
    }
   ],
   "source": [
    "f_oneway(LV6_0l, LV6_1l, LV6_2l, LV6_3l, LV6_4l)"
   ]
  },
  {
   "cell_type": "code",
   "execution_count": 40,
   "id": "62c482a5-c81c-4085-a1df-6f8372925cfc",
   "metadata": {},
   "outputs": [
    {
     "data": {
      "text/plain": [
       "F_onewayResult(statistic=5.949805985565843, pvalue=0.0002860246067339476)"
      ]
     },
     "execution_count": 40,
     "metadata": {},
     "output_type": "execute_result"
    }
   ],
   "source": [
    "f_oneway(LV6_0r, LV6_1r, LV6_2r, LV6_3r, LV6_4r)"
   ]
  },
  {
   "cell_type": "code",
   "execution_count": 41,
   "id": "eaefa51a-7aee-4360-a08d-4041c440f6e4",
   "metadata": {},
   "outputs": [
    {
     "data": {
      "text/plain": [
       "F_onewayResult(statistic=1.3740951214610015, pvalue=0.2497559152741635)"
      ]
     },
     "execution_count": 41,
     "metadata": {},
     "output_type": "execute_result"
    }
   ],
   "source": [
    "f_oneway(LV8_0l, LV8_1l, LV8_2l, LV8_3l, LV8_4l)"
   ]
  },
  {
   "cell_type": "code",
   "execution_count": 42,
   "id": "c657b15f-4c34-49f7-984a-75ceaec1014e",
   "metadata": {},
   "outputs": [
    {
     "data": {
      "text/plain": [
       "F_onewayResult(statistic=5.7722230225066635, pvalue=0.0003698300002787137)"
      ]
     },
     "execution_count": 42,
     "metadata": {},
     "output_type": "execute_result"
    }
   ],
   "source": [
    "f_oneway(LV8_0r, LV8_1r, LV8_2r, LV8_3r, LV8_4r)"
   ]
  },
  {
   "cell_type": "code",
   "execution_count": 43,
   "id": "e8094604-08d2-4fff-bbff-58483b3a3370",
   "metadata": {},
   "outputs": [],
   "source": [
    "LV4_al = ldf.loc[ldf['Position'] == 0, 'LV4'].tolist()\n",
    "LV4_bl = ldf.loc[ldf['Position'] == 1, 'LV4'].tolist()\n",
    "LV4_cl = ldf.loc[ldf['Position'] == 2, 'LV4'].tolist()\n",
    "\n",
    "LV6_al = ldf.loc[ldf['Position'] == 0, 'LV6'].tolist()\n",
    "LV6_bl = ldf.loc[ldf['Position'] == 1, 'LV6'].tolist()\n",
    "LV6_cl = ldf.loc[ldf['Position'] == 2, 'LV6'].tolist()\n",
    "\n",
    "LV8_al = ldf.loc[ldf['Position'] == 0, 'LV8'].tolist()\n",
    "LV8_bl = ldf.loc[ldf['Position'] == 1, 'LV8'].tolist()\n",
    "LV8_cl = ldf.loc[ldf['Position'] == 2, 'LV8'].tolist()\n",
    "\n",
    "LV4_ar = rdf.loc[rdf['Position'] == 0, 'LV4'].tolist()\n",
    "LV4_br = rdf.loc[rdf['Position'] == 1, 'LV4'].tolist()\n",
    "LV4_cr = rdf.loc[rdf['Position'] == 2, 'LV4'].tolist()\n",
    "\n",
    "LV6_ar = rdf.loc[rdf['Position'] == 0, 'LV6'].tolist()\n",
    "LV6_br = rdf.loc[rdf['Position'] == 1, 'LV6'].tolist()\n",
    "LV6_cr = rdf.loc[rdf['Position'] == 2, 'LV6'].tolist()\n",
    "\n",
    "LV8_ar = rdf.loc[rdf['Position'] == 0, 'LV8'].tolist()\n",
    "LV8_br = rdf.loc[rdf['Position'] == 1, 'LV8'].tolist()\n",
    "LV8_cr = rdf.loc[rdf['Position'] == 2, 'LV8'].tolist()"
   ]
  },
  {
   "cell_type": "code",
   "execution_count": 44,
   "id": "2ffe5f42-8fd2-43be-be40-f30ad31134b1",
   "metadata": {},
   "outputs": [
    {
     "data": {
      "text/plain": [
       "F_onewayResult(statistic=0.17728595829462138, pvalue=0.8378420599003564)"
      ]
     },
     "execution_count": 44,
     "metadata": {},
     "output_type": "execute_result"
    }
   ],
   "source": [
    "f_oneway(LV4_al, LV4_bl, LV4_cl)"
   ]
  },
  {
   "cell_type": "code",
   "execution_count": 45,
   "id": "f0caa2e4-71f5-4a5e-b4a3-1fab2b6995b3",
   "metadata": {},
   "outputs": [
    {
     "data": {
      "text/plain": [
       "F_onewayResult(statistic=0.08255015124722288, pvalue=0.9208372924871587)"
      ]
     },
     "execution_count": 45,
     "metadata": {},
     "output_type": "execute_result"
    }
   ],
   "source": [
    "f_oneway(LV4_ar, LV4_br, LV4_cr)"
   ]
  },
  {
   "cell_type": "code",
   "execution_count": 46,
   "id": "f7b625d3-f7ed-432e-8647-016852278b00",
   "metadata": {},
   "outputs": [
    {
     "data": {
      "text/plain": [
       "F_onewayResult(statistic=0.0030422751214813754, pvalue=0.9969624539643613)"
      ]
     },
     "execution_count": 46,
     "metadata": {},
     "output_type": "execute_result"
    }
   ],
   "source": [
    "f_oneway(LV6_al, LV6_bl, LV6_cl)"
   ]
  },
  {
   "cell_type": "code",
   "execution_count": 47,
   "id": "7915f8cd-2179-4203-b078-4cb353aa5a5a",
   "metadata": {},
   "outputs": [
    {
     "data": {
      "text/plain": [
       "F_onewayResult(statistic=0.8463502332957507, pvalue=0.4324787615009852)"
      ]
     },
     "execution_count": 47,
     "metadata": {},
     "output_type": "execute_result"
    }
   ],
   "source": [
    "f_oneway(LV6_ar, LV6_br, LV6_cr)"
   ]
  },
  {
   "cell_type": "code",
   "execution_count": 48,
   "id": "4dc5f5f4-21bd-45c5-9334-94c40a24542b",
   "metadata": {},
   "outputs": [
    {
     "data": {
      "text/plain": [
       "F_onewayResult(statistic=0.04989877746739209, pvalue=0.951352921184769)"
      ]
     },
     "execution_count": 48,
     "metadata": {},
     "output_type": "execute_result"
    }
   ],
   "source": [
    "f_oneway(LV8_al, LV8_bl, LV8_cl)"
   ]
  },
  {
   "cell_type": "code",
   "execution_count": 49,
   "id": "74a6ba01-c8ff-41c2-b188-6a3c18b3d161",
   "metadata": {},
   "outputs": [
    {
     "data": {
      "text/plain": [
       "F_onewayResult(statistic=0.5448785727295373, pvalue=0.5818781337318386)"
      ]
     },
     "execution_count": 49,
     "metadata": {},
     "output_type": "execute_result"
    }
   ],
   "source": [
    "f_oneway(LV8_ar, LV8_br, LV8_cr)"
   ]
  }
 ],
 "metadata": {
  "kernelspec": {
   "display_name": "Python 3",
   "language": "python",
   "name": "python3"
  },
  "language_info": {
   "codemirror_mode": {
    "name": "ipython",
    "version": 3
   },
   "file_extension": ".py",
   "mimetype": "text/x-python",
   "name": "python",
   "nbconvert_exporter": "python",
   "pygments_lexer": "ipython3",
   "version": "3.8.8"
  }
 },
 "nbformat": 4,
 "nbformat_minor": 5
}
