{
 "cells": [
  {
   "cell_type": "code",
   "execution_count": 48,
   "id": "7e16695e-3a81-420c-a11d-8e62ade679fe",
   "metadata": {},
   "outputs": [
    {
     "ename": "ModuleNotFoundError",
     "evalue": "No module named 'researchpy'",
     "output_type": "error",
     "traceback": [
      "\u001b[0;31m---------------------------------------------------------------------------\u001b[0m",
      "\u001b[0;31mModuleNotFoundError\u001b[0m                       Traceback (most recent call last)",
      "\u001b[0;32m<ipython-input-48-eec6d18b62e8>\u001b[0m in \u001b[0;36m<module>\u001b[0;34m\u001b[0m\n\u001b[1;32m      3\u001b[0m \u001b[0;32mimport\u001b[0m \u001b[0mmatplotlib\u001b[0m\u001b[0;34m.\u001b[0m\u001b[0mpyplot\u001b[0m \u001b[0;32mas\u001b[0m \u001b[0mplt\u001b[0m\u001b[0;34m\u001b[0m\u001b[0;34m\u001b[0m\u001b[0m\n\u001b[1;32m      4\u001b[0m \u001b[0;34m\u001b[0m\u001b[0m\n\u001b[0;32m----> 5\u001b[0;31m \u001b[0;32mimport\u001b[0m \u001b[0mresearchpy\u001b[0m \u001b[0;32mas\u001b[0m \u001b[0mrp\u001b[0m\u001b[0;34m\u001b[0m\u001b[0;34m\u001b[0m\u001b[0m\n\u001b[0m\u001b[1;32m      6\u001b[0m \u001b[0;32mfrom\u001b[0m \u001b[0mscipy\u001b[0m \u001b[0;32mimport\u001b[0m \u001b[0mstats\u001b[0m \u001b[0;32mas\u001b[0m \u001b[0mst\u001b[0m\u001b[0;34m\u001b[0m\u001b[0;34m\u001b[0m\u001b[0m\n\u001b[1;32m      7\u001b[0m \u001b[0;32mfrom\u001b[0m \u001b[0mscipy\u001b[0m\u001b[0;34m.\u001b[0m\u001b[0mstats\u001b[0m \u001b[0;32mimport\u001b[0m \u001b[0mf_oneway\u001b[0m\u001b[0;34m\u001b[0m\u001b[0;34m\u001b[0m\u001b[0m\n",
      "\u001b[0;31mModuleNotFoundError\u001b[0m: No module named 'researchpy'"
     ]
    }
   ],
   "source": [
    "import numpy as np\n",
    "import pandas as pd\n",
    "import matplotlib.pyplot as plt\n",
    "\n",
    "import researchpy as rp\n",
    "from scipy import stats as st\n",
    "from scipy.stats import f_oneway"
   ]
  },
  {
   "cell_type": "code",
   "execution_count": null,
   "id": "9c75d5b0-0f2c-474c-8550-b2d82ace1c17",
   "metadata": {},
   "outputs": [],
   "source": [
    "# Data Adjustments\n",
    "raw = pd.read_excel('./data/pressure_raw.xlsx', sheet_name='整理后')\n",
    "\n",
    "for i in range(len(raw)):\n",
    "    # Female: 0; Male: 1\n",
    "    if raw['性别'][i] == '女':\n",
    "        raw['性别'][i] = 0\n",
    "    elif raw['性别'][i] == '男':\n",
    "        raw['性别'][i] = 1\n",
    "\n",
    "    # Left: 0; Right: 1\n",
    "    if raw['测试耳'][i] == '左':\n",
    "        raw['测试耳'][i] = 0\n",
    "    elif raw['测试耳'][i] == '右':\n",
    "        raw['测试耳'][i] = 1\n",
    "        \n",
    "    # Blue: 0; Green: 1; Red: 2; Pink: 3; Yellow: 4\n",
    "    if raw['测试区域'][i] == '蓝':\n",
    "        raw['测试区域'][i] = 0\n",
    "    elif raw['测试区域'][i] == '绿':\n",
    "        raw['测试区域'][i] = 1\n",
    "    elif raw['测试区域'][i] == '红':\n",
    "        raw['测试区域'][i] = 2\n",
    "    elif raw['测试区域'][i] == '粉':\n",
    "        raw['测试区域'][i] = 3\n",
    "    elif raw['测试区域'][i] == '黄':\n",
    "        raw['测试区域'][i] = 4\n",
    "        \n",
    "    # Top: 0; Middle: 1; Bottom: 2\n",
    "    if raw['测试位置'][i] == '上':\n",
    "        raw['测试位置'][i] = 0\n",
    "    elif raw['测试位置'][i] == '中':\n",
    "        raw['测试位置'][i] = 1\n",
    "    elif raw['测试位置'][i] == '下':\n",
    "        raw['测试位置'][i] = 2\n",
    "        \n",
    "new_col_names = ['Index', 'Name', 'Gender', 'Ear', 'Area', 'Position', 'LV4', 'LV6', 'LV8']\n",
    "\n",
    "df = raw.copy()\n",
    "df.columns = new_col_names\n",
    "\n",
    "df.to_csv('./data/raw.csv')"
   ]
  },
  {
   "cell_type": "code",
   "execution_count": 45,
   "id": "3e2d1ed5-e57f-4fdc-873b-ec86dada8f9b",
   "metadata": {},
   "outputs": [
    {
     "data": {
      "text/plain": [
       "Ttest_indResult(statistic=1.7225057211582822, pvalue=0.08671481998202833)"
      ]
     },
     "execution_count": 45,
     "metadata": {},
     "output_type": "execute_result"
    }
   ],
   "source": [
    "# T-Test\n",
    "female_LV4 = df.loc[df['Gender'] == 0, 'LV4'].to_numpy()\n",
    "male_LV4 = df.loc[df['Gender'] == 1, 'LV4'].to_numpy()\n",
    "\n",
    "st.ttest_ind(a=female_LV4, b=male_LV4, equal_var=True)"
   ]
  },
  {
   "cell_type": "code",
   "execution_count": 43,
   "id": "485fab98-0d39-4191-b388-6d5d66437f1a",
   "metadata": {},
   "outputs": [
    {
     "data": {
      "text/plain": [
       "Ttest_indResult(statistic=-6.379751011104367, pvalue=1.485529814322812e-09)"
      ]
     },
     "execution_count": 43,
     "metadata": {},
     "output_type": "execute_result"
    }
   ],
   "source": [
    "female_LV6 = df.loc[df['Gender'] == 0, 'LV6'].to_numpy()\n",
    "male_LV6 = df.loc[df['Gender'] == 1, 'LV6'].to_numpy()\n",
    "\n",
    "st.ttest_ind(a=female_LV6, b=male_LV6, equal_var=True)"
   ]
  },
  {
   "cell_type": "code",
   "execution_count": 44,
   "id": "fb7aa34a-45a1-4aa5-b0e1-7edf63744e91",
   "metadata": {},
   "outputs": [
    {
     "data": {
      "text/plain": [
       "Ttest_indResult(statistic=-7.804470172260475, pvalue=4.905348798815167e-13)"
      ]
     },
     "execution_count": 44,
     "metadata": {},
     "output_type": "execute_result"
    }
   ],
   "source": [
    "female_LV8 = df.loc[df['Gender'] == 0, 'LV8'].to_numpy()\n",
    "male_LV8 = df.loc[df['Gender'] == 1, 'LV8'].to_numpy()\n",
    "\n",
    "st.ttest_ind(a=female_LV8, b=male_LV8, equal_var=True)"
   ]
  },
  {
   "cell_type": "code",
   "execution_count": 60,
   "id": "9397e8bb-58f5-42b5-94ef-86e2cd368ba4",
   "metadata": {},
   "outputs": [],
   "source": [
    "LV4_0 = df.loc[df['Area'] == 0, 'LV4'].tolist()\n",
    "LV4_1 = df.loc[df['Area'] == 1, 'LV4'].tolist()\n",
    "LV4_2 = df.loc[df['Area'] == 2, 'LV4'].tolist()\n",
    "LV4_3 = df.loc[df['Area'] == 3, 'LV4'].tolist()\n",
    "LV4_4 = df.loc[df['Area'] == 4, 'LV4'].tolist()\n",
    "\n",
    "LV6_0 = df.loc[df['Area'] == 0, 'LV6'].tolist()\n",
    "LV6_1 = df.loc[df['Area'] == 1, 'LV6'].tolist()\n",
    "LV6_2 = df.loc[df['Area'] == 2, 'LV6'].tolist()\n",
    "LV6_3 = df.loc[df['Area'] == 3, 'LV6'].tolist()\n",
    "LV6_4 = df.loc[df['Area'] == 4, 'LV6'].tolist()\n",
    "\n",
    "LV8_0 = df.loc[df['Area'] == 0, 'LV8'].tolist()\n",
    "LV8_1 = df.loc[df['Area'] == 1, 'LV8'].tolist()\n",
    "LV8_2 = df.loc[df['Area'] == 2, 'LV8'].tolist()\n",
    "LV8_3 = df.loc[df['Area'] == 3, 'LV8'].tolist()\n",
    "LV8_4 = df.loc[df['Area'] == 4, 'LV8'].tolist()"
   ]
  },
  {
   "cell_type": "code",
   "execution_count": 61,
   "id": "aa260fd3-8b75-4e14-9065-b7d2115078e6",
   "metadata": {},
   "outputs": [
    {
     "data": {
      "text/plain": [
       "F_onewayResult(statistic=1.769060437705095, pvalue=0.13714518544562596)"
      ]
     },
     "execution_count": 61,
     "metadata": {},
     "output_type": "execute_result"
    }
   ],
   "source": [
    "f_oneway(LV4_0, LV4_1, LV4_2, LV4_3, LV4_4)"
   ]
  },
  {
   "cell_type": "code",
   "execution_count": 62,
   "id": "a49af9d3-6e84-42c9-8b95-3dded235db72",
   "metadata": {},
   "outputs": [
    {
     "data": {
      "text/plain": [
       "F_onewayResult(statistic=7.10986374684215, pvalue=2.5082631448623883e-05)"
      ]
     },
     "execution_count": 62,
     "metadata": {},
     "output_type": "execute_result"
    }
   ],
   "source": [
    "f_oneway(LV6_0, LV6_1, LV6_2, LV6_3, LV6_4)"
   ]
  },
  {
   "cell_type": "code",
   "execution_count": 63,
   "id": "eaefa51a-7aee-4360-a08d-4041c440f6e4",
   "metadata": {},
   "outputs": [
    {
     "data": {
      "text/plain": [
       "F_onewayResult(statistic=5.123711844987352, pvalue=0.0006294245216580739)"
      ]
     },
     "execution_count": 63,
     "metadata": {},
     "output_type": "execute_result"
    }
   ],
   "source": [
    "f_oneway(LV8_0, LV8_1, LV8_2, LV8_3, LV8_4)"
   ]
  },
  {
   "cell_type": "code",
   "execution_count": null,
   "id": "e8094604-08d2-4fff-bbff-58483b3a3370",
   "metadata": {},
   "outputs": [],
   "source": []
  }
 ],
 "metadata": {
  "kernelspec": {
   "display_name": "Python 3",
   "language": "python",
   "name": "python3"
  },
  "language_info": {
   "codemirror_mode": {
    "name": "ipython",
    "version": 3
   },
   "file_extension": ".py",
   "mimetype": "text/x-python",
   "name": "python",
   "nbconvert_exporter": "python",
   "pygments_lexer": "ipython3",
   "version": "3.8.8"
  }
 },
 "nbformat": 4,
 "nbformat_minor": 5
}
