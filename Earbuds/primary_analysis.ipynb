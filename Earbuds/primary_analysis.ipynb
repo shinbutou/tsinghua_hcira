{
 "cells": [
  {
   "cell_type": "code",
   "execution_count": 178,
   "id": "367e2af7-40da-4fa5-9fbd-70087a45da8a",
   "metadata": {},
   "outputs": [],
   "source": [
    "import numpy as np\n",
    "import pandas as pd\n",
    "import matplotlib.pyplot as plt\n",
    "\n",
    "from matplotlib.pyplot import figure\n",
    "plt.style.use('seaborn')\n",
    "\n",
    "import scipy\n",
    "from scipy import stats\n",
    "\n",
    "# not sure if this would come in handy\n",
    "import seaborn as sns"
   ]
  },
  {
   "cell_type": "code",
   "execution_count": 4,
   "id": "099ca7f3-349c-4976-9d36-a736cfeb179b",
   "metadata": {},
   "outputs": [],
   "source": [
    "df = pd.read_csv('./data/raw.csv')"
   ]
  },
  {
   "cell_type": "code",
   "execution_count": 145,
   "id": "aeedd701-54d0-4951-b166-31fb06c5b9b1",
   "metadata": {},
   "outputs": [],
   "source": [
    "class element:\n",
    "    def __init__(self, data, sd, se):\n",
    "        self.data = data\n",
    "        self.sd = sd\n",
    "        self.se = se\n",
    "    \n",
    "    def get_sd(self):\n",
    "        self.sd = np.std(self.data)\n",
    "        return self.sd\n",
    "    \n",
    "    def get_se(self):\n",
    "        self.se = np.std(self.data) / np.sqrt(len(self.data))\n",
    "        return self.se"
   ]
  },
  {
   "cell_type": "code",
   "execution_count": 179,
   "id": "a5b51dc8-1864-4177-925d-640bbe587ae2",
   "metadata": {},
   "outputs": [],
   "source": [
    "def graph(dataset: list, labels: list, title: str):\n",
    "    data_list = []\n",
    "    se_list = []\n",
    "\n",
    "    for i in range(len(dataset)):\n",
    "        dataset[i].get_sd()\n",
    "        dataset[i].get_se()\n",
    "        data_list.append(dataset[i].data.mean())\n",
    "        se_list.append(dataset[i].se)\n",
    "\n",
    "    figure(figsize=(6, 4), dpi=100)\n",
    "    plt.bar(labels, data_list, yerr=se_list, width=0.45, error_kw=dict(lw=2, capsize=6, capthick=2))\n",
    "    plt.title(title)\n",
    "    plt.savefig('./img/primary/' + title + '.png', format='png', dpi=200)"
   ]
  },
  {
   "cell_type": "code",
   "execution_count": 181,
   "id": "ff212811-4602-44bb-9147-1b903be854d2",
   "metadata": {},
   "outputs": [
    {
     "data": {
      "image/png": "[encoded data removed]",
      "text/plain": [
       "<Figure size 600x400 with 1 Axes>"
      ]
     },
     "metadata": {},
     "output_type": "display_data"
    }
   ],
   "source": [
    "graph([LV4_yel_top, LV4_yel_mid, LV4_yel_bot], ['top', 'middle', 'bottom'], 'experiment')"
   ]
  },
  {
   "cell_type": "markdown",
   "id": "21cb5298-ef49-4b47-80d5-e40682a53877",
   "metadata": {},
   "source": [
    "#### Label Code\n",
    "* Female: 0; Male: 1\n",
    "* Left: 0; Right: 1\n",
    "* Blue: 0; Green: 1; Red: 2; Pink: 3; Yellow: 4\n",
    "* Top: 0; Middle: 1; Bottom: 2"
   ]
  },
  {
   "cell_type": "markdown",
   "id": "4968530a-f458-42a9-be15-af82e09e9eb3",
   "metadata": {},
   "source": [
    "### 1. Testing Between Genders\n",
    "The p-value of LV6 and LV8 is incredibly small, whilst that of LV4 is between 0.05 to 0.1, which is somewhat acceptable."
   ]
  },
  {
   "cell_type": "code",
   "execution_count": 31,
   "id": "d01f215e-33e3-4faf-8338-00720421a8cf",
   "metadata": {},
   "outputs": [],
   "source": [
    "LV4_tstat, LV4_pvalue = stats.ttest_ind(df[df['Gender'] == 0]['LV4'], df[df['Gender'] == 1]['LV4'])\n",
    "LV6_tstat, LV6_pvalue = stats.ttest_ind(df[df['Gender'] == 0]['LV6'], df[df['Gender'] == 1]['LV6'])\n",
    "LV8_tstat, LV8_pvalue = stats.ttest_ind(df[df['Gender'] == 0]['LV8'], df[df['Gender'] == 1]['LV8'])"
   ]
  },
  {
   "cell_type": "markdown",
   "id": "112a883f-801c-4115-9a51-751ba75946ad",
   "metadata": {},
   "source": [
    "#### LV4"
   ]
  },
  {
   "cell_type": "code",
   "execution_count": 106,
   "id": "b96da29b-fe64-4df5-a291-292e5cdc7822",
   "metadata": {},
   "outputs": [
    {
     "data": {
      "text/plain": [
       "(1.7225057211582822, 0.08671481998202833)"
      ]
     },
     "execution_count": 106,
     "metadata": {},
     "output_type": "execute_result"
    }
   ],
   "source": [
    "LV4_tstat, LV4_pvalue"
   ]
  },
  {
   "cell_type": "markdown",
   "id": "c30e60b3-21c3-4047-8de1-1129a97f5f85",
   "metadata": {},
   "source": [
    "#### LV6"
   ]
  },
  {
   "cell_type": "code",
   "execution_count": 107,
   "id": "e2cd92ad-6883-497b-a6c0-23e544712d13",
   "metadata": {},
   "outputs": [
    {
     "data": {
      "text/plain": [
       "(-6.379751011104367, 1.485529814322812e-09)"
      ]
     },
     "execution_count": 107,
     "metadata": {},
     "output_type": "execute_result"
    }
   ],
   "source": [
    "LV6_tstat, LV6_pvalue"
   ]
  },
  {
   "cell_type": "markdown",
   "id": "2c6bbf23-e32b-4a60-b656-9225a3a8afdc",
   "metadata": {},
   "source": [
    "#### LV8"
   ]
  },
  {
   "cell_type": "code",
   "execution_count": 134,
   "id": "b7d70340-1ba9-4b2c-bf59-4a90212d972a",
   "metadata": {},
   "outputs": [
    {
     "data": {
      "text/plain": [
       "(-7.804470172260475, 4.905348798815167e-13)"
      ]
     },
     "execution_count": 134,
     "metadata": {},
     "output_type": "execute_result"
    }
   ],
   "source": [
    "LV8_tstat, LV8_pvalue"
   ]
  },
  {
   "cell_type": "markdown",
   "id": "0749b830-7758-44ec-b4a4-f95189d55d70",
   "metadata": {},
   "source": [
    "### 2. Testing Between Areas"
   ]
  },
  {
   "cell_type": "code",
   "execution_count": 148,
   "id": "daa73be8-40d0-45a6-a13e-06b02bb6b4fa",
   "metadata": {},
   "outputs": [
    {
     "data": {
      "text/plain": [
       "(1.769060437705095, 0.13714518544562596)"
      ]
     },
     "execution_count": 148,
     "metadata": {},
     "output_type": "execute_result"
    }
   ],
   "source": [
    "LV4_blu = element(df[df['Area'] == 0]['LV4'], 0, 0)\n",
    "LV4_gre = element(df[df['Area'] == 1]['LV4'], 0, 0)\n",
    "LV4_red = element(df[df['Area'] == 2]['LV4'], 0, 0)\n",
    "LV4_pin = element(df[df['Area'] == 3]['LV4'], 0, 0)\n",
    "LV4_yel = element(df[df['Area'] == 4]['LV4'], 0, 0)\n",
    "\n",
    "LV4_area_fstat, LV4_area_pvalue = stats.f_oneway(LV4_blu.data, LV4_gre.data, LV4_red.data, LV4_pin.data, LV4_yel.data)\n",
    "LV4_area_fstat, LV4_area_pvalue"
   ]
  },
  {
   "cell_type": "code",
   "execution_count": 149,
   "id": "5cad3838-0b8d-4fa6-a3e7-f9801dd239e5",
   "metadata": {},
   "outputs": [
    {
     "data": {
      "text/plain": [
       "(7.10986374684215, 2.5082631448623883e-05)"
      ]
     },
     "execution_count": 149,
     "metadata": {},
     "output_type": "execute_result"
    }
   ],
   "source": [
    "LV6_blu = element(df[df['Area'] == 0]['LV6'], 0, 0)\n",
    "LV6_gre = element(df[df['Area'] == 1]['LV6'], 0, 0)\n",
    "LV6_red = element(df[df['Area'] == 2]['LV6'], 0, 0)\n",
    "LV6_pin = element(df[df['Area'] == 3]['LV6'], 0, 0)\n",
    "LV6_yel = element(df[df['Area'] == 4]['LV6'], 0, 0)\n",
    "\n",
    "LV6_area_fstat, LV6_area_pvalue = stats.f_oneway(LV6_blu.data, LV6_gre.data, LV6_red.data, LV6_pin.data, LV6_yel.data)\n",
    "LV6_area_fstat, LV6_area_pvalue"
   ]
  },
  {
   "cell_type": "code",
   "execution_count": 150,
   "id": "876b7784-9171-40ac-9c2a-c921a72ce551",
   "metadata": {},
   "outputs": [
    {
     "data": {
      "text/plain": [
       "(5.123711844987352, 0.0006294245216580739)"
      ]
     },
     "execution_count": 150,
     "metadata": {},
     "output_type": "execute_result"
    }
   ],
   "source": [
    "LV8_blu = element(df[df['Area'] == 0]['LV8'], 0, 0)\n",
    "LV8_gre = element(df[df['Area'] == 1]['LV8'], 0, 0)\n",
    "LV8_red = element(df[df['Area'] == 2]['LV8'], 0, 0)\n",
    "LV8_pin = element(df[df['Area'] == 3]['LV8'], 0, 0)\n",
    "LV8_yel = element(df[df['Area'] == 4]['LV8'], 0, 0)\n",
    "\n",
    "LV8_area_fstat, LV8_area_pvalue = stats.f_oneway(LV8_blu.data, LV8_gre.data, LV8_red.data, LV8_pin.data, LV8_yel.data)\n",
    "LV8_area_fstat, LV8_area_pvalue"
   ]
  },
  {
   "cell_type": "markdown",
   "id": "557db9b1-b4d9-48ef-bd99-4884107dc772",
   "metadata": {},
   "source": [
    "### 3. Testing Between Positions"
   ]
  },
  {
   "cell_type": "code",
   "execution_count": 151,
   "id": "ee8e41d8-3190-4a1f-b1e2-ab6c737f283d",
   "metadata": {},
   "outputs": [],
   "source": [
    "# Area: 0\n",
    "LV4_blu_top = element(df.query('Area == 0 & Position == 0')['LV4'], 0, 0)\n",
    "LV4_blu_mid = element(df.query('Area == 0 & Position == 1')['LV4'], 0, 0)\n",
    "LV4_blu_bot = element(df.query('Area == 0 & Position == 2')['LV4'], 0, 0)\n",
    "\n",
    "LV6_blu_top = element(df.query('Area == 0 & Position == 0')['LV6'], 0, 0)\n",
    "LV6_blu_mid = element(df.query('Area == 0 & Position == 1')['LV6'], 0, 0)\n",
    "LV6_blu_bot = element(df.query('Area == 0 & Position == 2')['LV6'], 0, 0)\n",
    "\n",
    "LV8_blu_top = element(df.query('Area == 0 & Position == 0')['LV8'], 0, 0)\n",
    "LV8_blu_mid = element(df.query('Area == 0 & Position == 1')['LV8'], 0, 0)\n",
    "LV8_blu_bot = element(df.query('Area == 0 & Position == 2')['LV8'], 0, 0)\n",
    "\n",
    "# Area: 1\n",
    "LV4_gre_top = element(df.query('Area == 1 & Position == 0')['LV4'], 0, 0)\n",
    "LV4_gre_mid = element(df.query('Area == 1 & Position == 1')['LV4'], 0, 0)\n",
    "LV4_gre_bot = element(df.query('Area == 1 & Position == 2')['LV4'], 0, 0)\n",
    "\n",
    "LV6_gre_top = element(df.query('Area == 1 & Position == 0')['LV6'], 0, 0)\n",
    "LV6_gre_mid = element(df.query('Area == 1 & Position == 1')['LV6'], 0, 0)\n",
    "LV6_gre_bot = element(df.query('Area == 1 & Position == 2')['LV6'], 0, 0)\n",
    "\n",
    "LV8_gre_top = element(df.query('Area == 1 & Position == 0')['LV8'], 0, 0)\n",
    "LV8_gre_mid = element(df.query('Area == 1 & Position == 1')['LV8'], 0, 0)\n",
    "LV8_gre_bot = element(df.query('Area == 1 & Position == 2')['LV8'], 0, 0)\n",
    "\n",
    "# Area: 2\n",
    "LV4_red_top = element(df.query('Area == 2 & Position == 0')['LV4'], 0, 0)\n",
    "LV4_red_mid = element(df.query('Area == 2 & Position == 1')['LV4'], 0, 0)\n",
    "LV4_red_bot = element(df.query('Area == 2 & Position == 2')['LV4'], 0, 0)\n",
    "\n",
    "LV6_red_top = element(df.query('Area == 2 & Position == 0')['LV6'], 0, 0)\n",
    "LV6_red_mid = element(df.query('Area == 2 & Position == 1')['LV6'], 0, 0)\n",
    "LV6_red_bot = element(df.query('Area == 2 & Position == 2')['LV6'], 0, 0)\n",
    "\n",
    "LV8_red_top = element(df.query('Area == 2 & Position == 0')['LV8'], 0, 0)\n",
    "LV8_red_mid = element(df.query('Area == 2 & Position == 1')['LV8'], 0, 0)\n",
    "LV8_red_bot = element(df.query('Area == 2 & Position == 2')['LV8'], 0, 0)\n",
    "\n",
    "# Area: 3\n",
    "LV4_pin_top = element(df.query('Area == 3 & Position == 0')['LV4'], 0, 0)\n",
    "LV4_pin_mid = element(df.query('Area == 3 & Position == 1')['LV4'], 0, 0)\n",
    "LV4_pin_bot = element(df.query('Area == 3 & Position == 2')['LV4'], 0, 0)\n",
    "\n",
    "LV6_pin_top = element(df.query('Area == 3 & Position == 0')['LV6'], 0, 0)\n",
    "LV6_pin_mid = element(df.query('Area == 3 & Position == 1')['LV6'], 0, 0)\n",
    "LV6_pin_bot = element(df.query('Area == 3 & Position == 2')['LV6'], 0, 0)\n",
    "\n",
    "LV8_pin_top = element(df.query('Area == 3 & Position == 0')['LV8'], 0, 0)\n",
    "LV8_pin_mid = element(df.query('Area == 3 & Position == 1')['LV8'], 0, 0)\n",
    "LV8_pin_bot = element(df.query('Area == 3 & Position == 2')['LV8'], 0, 0)\n",
    "\n",
    "# Area: 4\n",
    "LV4_yel_top = element(df.query('Area == 4 & Position == 0')['LV4'], 0, 0)\n",
    "LV4_yel_mid = element(df.query('Area == 4 & Position == 1')['LV4'], 0, 0)\n",
    "LV4_yel_bot = element(df.query('Area == 4 & Position == 2')['LV4'], 0, 0)\n",
    "\n",
    "LV6_yel_top = element(df.query('Area == 4 & Position == 0')['LV6'], 0, 0)\n",
    "LV6_yel_mid = element(df.query('Area == 4 & Position == 1')['LV6'], 0, 0)\n",
    "LV6_yel_bot = element(df.query('Area == 4 & Position == 2')['LV6'], 0, 0)\n",
    "\n",
    "LV8_yel_top = element(df.query('Area == 4 & Position == 0')['LV8'], 0, 0)\n",
    "LV8_yel_mid = element(df.query('Area == 4 & Position == 1')['LV8'], 0, 0)\n",
    "LV8_yel_bot = element(df.query('Area == 4 & Position == 2')['LV8'], 0, 0)"
   ]
  },
  {
   "cell_type": "markdown",
   "id": "19c35cd8-0f29-47ab-810c-1ff424a3c226",
   "metadata": {},
   "source": [
    "#### 1. Blue"
   ]
  },
  {
   "cell_type": "code",
   "execution_count": 152,
   "id": "2142ec62-00e2-4920-b4d6-36db9ce3c75c",
   "metadata": {},
   "outputs": [
    {
     "data": {
      "text/plain": [
       "(0.5122522048176913, 0.6038306781440823)"
      ]
     },
     "execution_count": 152,
     "metadata": {},
     "output_type": "execute_result"
    }
   ],
   "source": [
    "LV4_blu_fstat, LV4_blu_pvalue = stats.f_oneway(LV4_blu_top.data, LV4_blu_mid.data, LV4_blu_bot.data)\n",
    "LV4_blu_fstat, LV4_blu_pvalue"
   ]
  },
  {
   "cell_type": "code",
   "execution_count": 153,
   "id": "51731e42-5a36-4e97-ad49-014d99e65d8f",
   "metadata": {},
   "outputs": [
    {
     "data": {
      "text/plain": [
       "(0.259184039167409, 0.7732371690038411)"
      ]
     },
     "execution_count": 153,
     "metadata": {},
     "output_type": "execute_result"
    }
   ],
   "source": [
    "LV6_blu_fstat, LV6_blu_pvalue = stats.f_oneway(LV6_blu_top.data, LV6_blu_mid.data, LV6_blu_bot.data)\n",
    "LV6_blu_fstat, LV6_blu_pvalue"
   ]
  },
  {
   "cell_type": "code",
   "execution_count": 154,
   "id": "084fe227-0a61-4026-bc9e-7241903558ab",
   "metadata": {},
   "outputs": [
    {
     "data": {
      "text/plain": [
       "(0.1353699842219706, 0.8738752056068148)"
      ]
     },
     "execution_count": 154,
     "metadata": {},
     "output_type": "execute_result"
    }
   ],
   "source": [
    "LV8_blu_fstat, LV8_blu_pvalue = stats.f_oneway(LV8_blu_top.data, LV8_blu_mid.data, LV8_blu_bot.data)\n",
    "LV8_blu_fstat, LV8_blu_pvalue"
   ]
  },
  {
   "cell_type": "markdown",
   "id": "5e30e2ec-136f-428b-8fe6-c5fb2909d8c3",
   "metadata": {},
   "source": [
    "#### 2. Green"
   ]
  },
  {
   "cell_type": "code",
   "execution_count": 155,
   "id": "41e2797e-f043-454c-82cc-356ca24fd4a1",
   "metadata": {},
   "outputs": [
    {
     "data": {
      "text/plain": [
       "(2.8221217770180567, 0.07388914369728515)"
      ]
     },
     "execution_count": 155,
     "metadata": {},
     "output_type": "execute_result"
    }
   ],
   "source": [
    "LV4_gre_fstat, LV4_gre_pvalue = stats.f_oneway(LV4_gre_top.data, LV4_gre_mid.data, LV4_gre_bot.data)\n",
    "LV4_gre_fstat, LV4_gre_pvalue"
   ]
  },
  {
   "cell_type": "code",
   "execution_count": 156,
   "id": "a1a4f87e-c5a4-48b6-998a-6175a5246825",
   "metadata": {},
   "outputs": [
    {
     "data": {
      "text/plain": [
       "(2.840066991164798, 0.07276600085109794)"
      ]
     },
     "execution_count": 156,
     "metadata": {},
     "output_type": "execute_result"
    }
   ],
   "source": [
    "LV6_gre_fstat, LV6_gre_pvalue = stats.f_oneway(LV6_gre_top.data, LV6_gre_mid.data, LV6_gre_bot.data)\n",
    "LV6_gre_fstat, LV6_gre_pvalue"
   ]
  },
  {
   "cell_type": "code",
   "execution_count": 157,
   "id": "b659163d-9937-405f-9c09-79d9ab81f595",
   "metadata": {},
   "outputs": [
    {
     "data": {
      "text/plain": [
       "(3.365253857526456, 0.0467662031277302)"
      ]
     },
     "execution_count": 157,
     "metadata": {},
     "output_type": "execute_result"
    }
   ],
   "source": [
    "LV8_gre_fstat, LV8_gre_pvalue = stats.f_oneway(LV8_gre_top.data, LV8_gre_mid.data, LV8_gre_bot.data)\n",
    "LV8_gre_fstat, LV8_gre_pvalue"
   ]
  },
  {
   "cell_type": "markdown",
   "id": "80c0d2bc-f18b-4662-9497-24eda9258a60",
   "metadata": {},
   "source": [
    "#### 3. Red"
   ]
  },
  {
   "cell_type": "code",
   "execution_count": 158,
   "id": "f1015ddd-9e79-4542-ab7d-f1570c018970",
   "metadata": {},
   "outputs": [
    {
     "data": {
      "text/plain": [
       "(1.202007471141465, 0.31341047264365884)"
      ]
     },
     "execution_count": 158,
     "metadata": {},
     "output_type": "execute_result"
    }
   ],
   "source": [
    "LV4_red_fstat, LV4_red_pvalue = stats.f_oneway(LV4_red_top.data, LV4_red_mid.data, LV4_red_bot.data)\n",
    "LV4_red_fstat, LV4_red_pvalue"
   ]
  },
  {
   "cell_type": "code",
   "execution_count": 159,
   "id": "c40d4bed-5899-4418-86c4-ed263c0c9cb9",
   "metadata": {},
   "outputs": [
    {
     "data": {
      "text/plain": [
       "(0.04192799578529871, 0.9589898247371054)"
      ]
     },
     "execution_count": 159,
     "metadata": {},
     "output_type": "execute_result"
    }
   ],
   "source": [
    "LV6_red_fstat, LV6_red_pvalue = stats.f_oneway(LV6_red_top.data, LV6_red_mid.data, LV6_red_bot.data)\n",
    "LV6_red_fstat, LV6_red_pvalue"
   ]
  },
  {
   "cell_type": "code",
   "execution_count": 160,
   "id": "f5c23215-bf71-4e7c-9426-baa6686bbade",
   "metadata": {},
   "outputs": [
    {
     "data": {
      "text/plain": [
       "(0.04081210181631912, 0.9600578736103722)"
      ]
     },
     "execution_count": 160,
     "metadata": {},
     "output_type": "execute_result"
    }
   ],
   "source": [
    "LV8_red_fstat, LV8_red_pvalue = stats.f_oneway(LV8_red_top.data, LV8_red_mid.data, LV8_red_bot.data)\n",
    "LV8_red_fstat, LV8_red_pvalue"
   ]
  },
  {
   "cell_type": "markdown",
   "id": "fa723017-a8a5-4cb0-ab80-f6392ca5cc72",
   "metadata": {},
   "source": [
    "#### 4. Pink"
   ]
  },
  {
   "cell_type": "code",
   "execution_count": 161,
   "id": "ed1a67aa-dede-44ab-8294-6e8221968e97",
   "metadata": {},
   "outputs": [
    {
     "data": {
      "text/plain": [
       "(0.36587421201954645, 0.6963682141132543)"
      ]
     },
     "execution_count": 161,
     "metadata": {},
     "output_type": "execute_result"
    }
   ],
   "source": [
    "LV4_pin_fstat, LV4_pin_pvalue = stats.f_oneway(LV4_pin_top.data, LV4_pin_mid.data, LV4_pin_bot.data)\n",
    "LV4_pin_fstat, LV4_pin_pvalue"
   ]
  },
  {
   "cell_type": "code",
   "execution_count": 162,
   "id": "bbb1e648-ae08-4c33-8eb7-87b38b66c406",
   "metadata": {},
   "outputs": [
    {
     "data": {
      "text/plain": [
       "(0.4721420218646577, 0.6278128994352445)"
      ]
     },
     "execution_count": 162,
     "metadata": {},
     "output_type": "execute_result"
    }
   ],
   "source": [
    "LV6_pin_fstat, LV6_pin_pvalue = stats.f_oneway(LV6_pin_top.data, LV6_pin_mid.data, LV6_pin_bot.data)\n",
    "LV6_pin_fstat, LV6_pin_pvalue"
   ]
  },
  {
   "cell_type": "code",
   "execution_count": 163,
   "id": "edb22e62-59bf-4cc9-b6e9-21527eb2b120",
   "metadata": {},
   "outputs": [
    {
     "data": {
      "text/plain": [
       "(0.2718070217587091, 0.7636905975079189)"
      ]
     },
     "execution_count": 163,
     "metadata": {},
     "output_type": "execute_result"
    }
   ],
   "source": [
    "LV8_pin_fstat, LV8_pin_pvalue = stats.f_oneway(LV8_pin_top.data, LV8_pin_mid.data, LV8_pin_bot.data)\n",
    "LV8_pin_fstat, LV8_pin_pvalue"
   ]
  },
  {
   "cell_type": "markdown",
   "id": "f97533f4-3cda-4e32-a0f6-c34e3b32941f",
   "metadata": {},
   "source": [
    "#### 5. Yellow"
   ]
  },
  {
   "cell_type": "code",
   "execution_count": 164,
   "id": "ea4efba3-12cf-42f6-b524-aad3df958c13",
   "metadata": {},
   "outputs": [
    {
     "data": {
      "text/plain": [
       "(0.6022518045519608, 0.5534847862001244)"
      ]
     },
     "execution_count": 164,
     "metadata": {},
     "output_type": "execute_result"
    }
   ],
   "source": [
    "LV4_yel_fstat, LV4_yel_pvalue = stats.f_oneway(LV4_yel_top.data, LV4_yel_mid.data, LV4_yel_bot.data)\n",
    "LV4_yel_fstat, LV4_yel_pvalue"
   ]
  },
  {
   "cell_type": "code",
   "execution_count": 165,
   "id": "8f0b9cab-20d1-4713-b195-46c88c96cd85",
   "metadata": {},
   "outputs": [
    {
     "data": {
      "text/plain": [
       "(0.2560846942725727, 0.7756004572776191)"
      ]
     },
     "execution_count": 165,
     "metadata": {},
     "output_type": "execute_result"
    }
   ],
   "source": [
    "LV6_yel_fstat, LV6_yel_pvalue = stats.f_oneway(LV6_yel_top.data, LV6_yel_mid.data, LV6_yel_bot.data)\n",
    "LV6_yel_fstat, LV6_yel_pvalue"
   ]
  },
  {
   "cell_type": "code",
   "execution_count": 166,
   "id": "a264e4d4-97c6-4a7b-b7c6-23fb15718bd6",
   "metadata": {},
   "outputs": [
    {
     "data": {
      "text/plain": [
       "(0.572098709013121, 0.5698374827733927)"
      ]
     },
     "execution_count": 166,
     "metadata": {},
     "output_type": "execute_result"
    }
   ],
   "source": [
    "LV8_yel_fstat, LV8_yel_pvalue = stats.f_oneway(LV8_yel_top.data, LV8_yel_mid.data, LV8_yel_bot.data)\n",
    "LV8_yel_fstat, LV8_yel_pvalue"
   ]
  }
 ],
 "metadata": {
  "kernelspec": {
   "display_name": "Python 3",
   "language": "python",
   "name": "python3"
  },
  "language_info": {
   "codemirror_mode": {
    "name": "ipython",
    "version": 3
   },
   "file_extension": ".py",
   "mimetype": "text/x-python",
   "name": "python",
   "nbconvert_exporter": "python",
   "pygments_lexer": "ipython3",
   "version": "3.8.8"
  }
 },
 "nbformat": 4,
 "nbformat_minor": 5
}
