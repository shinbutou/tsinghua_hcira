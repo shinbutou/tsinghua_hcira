{
 "cells": [
  {
   "cell_type": "code",
   "execution_count": 22,
   "id": "367e2af7-40da-4fa5-9fbd-70087a45da8a",
   "metadata": {},
   "outputs": [],
   "source": [
    "import numpy as np\n",
    "import pandas as pd\n",
    "import matplotlib.pyplot as plt\n",
    "\n",
    "# not sure if these would come in handy\n",
    "import seaborn as sns\n",
    "import scipy\n",
    "from scipy import stats"
   ]
  },
  {
   "cell_type": "code",
   "execution_count": 4,
   "id": "099ca7f3-349c-4976-9d36-a736cfeb179b",
   "metadata": {},
   "outputs": [],
   "source": [
    "df = pd.read_csv('./data/raw.csv')"
   ]
  },
  {
   "cell_type": "markdown",
   "id": "21cb5298-ef49-4b47-80d5-e40682a53877",
   "metadata": {},
   "source": [
    "* Female: 0; Male: 1\n",
    "* Left: 0; Right: 1\n",
    "* Blue: 0; Green: 1; Red: 2; Pink: 3; Yellow: 4\n",
    "* Top: 0; Middle: 1; Bottom: 2"
   ]
  },
  {
   "cell_type": "code",
   "execution_count": 31,
   "id": "d01f215e-33e3-4faf-8338-00720421a8cf",
   "metadata": {},
   "outputs": [],
   "source": [
    "# Testing Between Genders - LV4\n",
    "LV4_tstat, LV4_pvalue = stats.ttest_ind(df[df['Gender'] == 0]['LV4'], df[df['Gender'] == 1]['LV4'])\n",
    "\n",
    "# Testing Between Genders - LV6\n",
    "LV6_tstat, LV6_pvalue = stats.ttest_ind(df[df['Gender'] == 0]['LV6'], df[df['Gender'] == 1]['LV6'])\n",
    "\n",
    "# Testing Between Genders - LV8\n",
    "LV8_tstat, LV8_pvalue = stats.ttest_ind(df[df['Gender'] == 0]['LV8'], df[df['Gender'] == 1]['LV8'])"
   ]
  },
  {
   "cell_type": "code",
   "execution_count": 32,
   "id": "b96da29b-fe64-4df5-a291-292e5cdc7822",
   "metadata": {},
   "outputs": [
    {
     "data": {
      "text/plain": [
       "1.7225057211582822"
      ]
     },
     "execution_count": 32,
     "metadata": {},
     "output_type": "execute_result"
    }
   ],
   "source": [
    "LV4_tstat"
   ]
  },
  {
   "cell_type": "code",
   "execution_count": 33,
   "id": "f31ec835-8942-4ed9-aeea-2212e0c12fe9",
   "metadata": {},
   "outputs": [
    {
     "data": {
      "text/plain": [
       "0.08671481998202833"
      ]
     },
     "execution_count": 33,
     "metadata": {},
     "output_type": "execute_result"
    }
   ],
   "source": [
    "LV4_pvalue"
   ]
  },
  {
   "cell_type": "code",
   "execution_count": 35,
   "id": "e2cd92ad-6883-497b-a6c0-23e544712d13",
   "metadata": {},
   "outputs": [
    {
     "data": {
      "text/plain": [
       "-6.379751011104367"
      ]
     },
     "execution_count": 35,
     "metadata": {},
     "output_type": "execute_result"
    }
   ],
   "source": [
    "LV6_tstat"
   ]
  },
  {
   "cell_type": "code",
   "execution_count": 36,
   "id": "a6183366-f23e-4378-ad8b-2a3fe27fca60",
   "metadata": {},
   "outputs": [
    {
     "data": {
      "text/plain": [
       "1.485529814322812e-09"
      ]
     },
     "execution_count": 36,
     "metadata": {},
     "output_type": "execute_result"
    }
   ],
   "source": [
    "LV6_pvalue"
   ]
  },
  {
   "cell_type": "code",
   "execution_count": 38,
   "id": "9fa84476-d210-47a1-9471-13f813b1160b",
   "metadata": {},
   "outputs": [
    {
     "data": {
      "text/plain": [
       "-7.804470172260475"
      ]
     },
     "execution_count": 38,
     "metadata": {},
     "output_type": "execute_result"
    }
   ],
   "source": [
    "LV8_tstat"
   ]
  },
  {
   "cell_type": "code",
   "execution_count": 39,
   "id": "0b851647-e135-418f-9281-175690754370",
   "metadata": {},
   "outputs": [
    {
     "data": {
      "text/plain": [
       "4.905348798815167e-13"
      ]
     },
     "execution_count": 39,
     "metadata": {},
     "output_type": "execute_result"
    }
   ],
   "source": [
    "LV8_pvalue"
   ]
  },
  {
   "cell_type": "markdown",
   "id": "e7ae226a-40ad-48fc-99dd-63235e4cc9db",
   "metadata": {},
   "source": [
    "The p-value of LV6 and LV8 is incredibly small, whilst that of LV4 is between 0.05 to 0.1, which is somewhat acceptable."
   ]
  },
  {
   "cell_type": "code",
   "execution_count": 50,
   "id": "daa73be8-40d0-45a6-a13e-06b02bb6b4fa",
   "metadata": {},
   "outputs": [],
   "source": [
    "LV4_blu = df[df['Area'] == 0]['LV4']\n",
    "LV4_gre = df[df['Area'] == 1]['LV4']\n",
    "LV4_red = df[df['Area'] == 2]['LV4']\n",
    "LV4_pin = df[df['Area'] == 3]['LV4']\n",
    "LV4_yel = df[df['Area'] == 4]['LV4']\n",
    "\n",
    "LV4_area_fstat, LV4_area_pvalue = stats.f_oneway(LV4_blu, LV4_gre, LV4_red, LV4_pin, LV4_yel)"
   ]
  },
  {
   "cell_type": "code",
   "execution_count": 51,
   "id": "37d96500-b5c3-4e20-b95b-08cb4b92caff",
   "metadata": {},
   "outputs": [
    {
     "data": {
      "text/plain": [
       "1.769060437705095"
      ]
     },
     "execution_count": 51,
     "metadata": {},
     "output_type": "execute_result"
    }
   ],
   "source": [
    "LV4_area_fstat"
   ]
  },
  {
   "cell_type": "code",
   "execution_count": 52,
   "id": "8099275f-c12f-4a6f-869b-9318d7b804ae",
   "metadata": {},
   "outputs": [
    {
     "data": {
      "text/plain": [
       "0.13714518544562596"
      ]
     },
     "execution_count": 52,
     "metadata": {},
     "output_type": "execute_result"
    }
   ],
   "source": [
    "LV4_area_pvalue"
   ]
  },
  {
   "cell_type": "code",
   "execution_count": 53,
   "id": "5cad3838-0b8d-4fa6-a3e7-f9801dd239e5",
   "metadata": {},
   "outputs": [],
   "source": [
    "LV6_blu = df[df['Area'] == 0]['LV6']\n",
    "LV6_gre = df[df['Area'] == 1]['LV6']\n",
    "LV6_red = df[df['Area'] == 2]['LV6']\n",
    "LV6_pin = df[df['Area'] == 3]['LV6']\n",
    "LV6_yel = df[df['Area'] == 4]['LV6']\n",
    "\n",
    "LV6_area_fstat, LV6_area_pvalue = stats.f_oneway(LV6_blu, LV6_gre, LV6_red, LV6_pin, LV6_yel)"
   ]
  },
  {
   "cell_type": "code",
   "execution_count": 54,
   "id": "3143ea2e-0060-4e7b-acd0-f29cc2e9f36b",
   "metadata": {},
   "outputs": [
    {
     "data": {
      "text/plain": [
       "7.10986374684215"
      ]
     },
     "execution_count": 54,
     "metadata": {},
     "output_type": "execute_result"
    }
   ],
   "source": [
    "LV6_area_fstat"
   ]
  },
  {
   "cell_type": "code",
   "execution_count": 55,
   "id": "fe059f36-9bb3-4ffd-8451-c80be118f126",
   "metadata": {},
   "outputs": [
    {
     "data": {
      "text/plain": [
       "2.5082631448623883e-05"
      ]
     },
     "execution_count": 55,
     "metadata": {},
     "output_type": "execute_result"
    }
   ],
   "source": [
    "LV6_area_pvalue"
   ]
  },
  {
   "cell_type": "code",
   "execution_count": 56,
   "id": "876b7784-9171-40ac-9c2a-c921a72ce551",
   "metadata": {},
   "outputs": [],
   "source": [
    "LV8_blu = df[df['Area'] == 0]['LV8']\n",
    "LV8_gre = df[df['Area'] == 1]['LV8']\n",
    "LV8_red = df[df['Area'] == 2]['LV8']\n",
    "LV8_pin = df[df['Area'] == 3]['LV8']\n",
    "LV8_yel = df[df['Area'] == 4]['LV8']\n",
    "\n",
    "LV8_area_fstat, LV8_area_pvalue = stats.f_oneway(LV8_blu, LV8_gre, LV8_red, LV8_pin, LV8_yel)"
   ]
  },
  {
   "cell_type": "code",
   "execution_count": 57,
   "id": "325fe94d-a5e0-4ac9-8a33-5d8322460716",
   "metadata": {},
   "outputs": [
    {
     "data": {
      "text/plain": [
       "5.123711844987352"
      ]
     },
     "execution_count": 57,
     "metadata": {},
     "output_type": "execute_result"
    }
   ],
   "source": [
    "LV8_area_fstat"
   ]
  },
  {
   "cell_type": "code",
   "execution_count": 58,
   "id": "7dfeeb85-1513-4058-a2e1-cf222f23129d",
   "metadata": {},
   "outputs": [
    {
     "data": {
      "text/plain": [
       "0.0006294245216580739"
      ]
     },
     "execution_count": 58,
     "metadata": {},
     "output_type": "execute_result"
    }
   ],
   "source": [
    "LV8_area_pvalue"
   ]
  },
  {
   "cell_type": "code",
   "execution_count": 88,
   "id": "ee8e41d8-3190-4a1f-b1e2-ab6c737f283d",
   "metadata": {},
   "outputs": [],
   "source": [
    "# Area: 0\n",
    "LV4_blu_top = df.query('Area == 0 & Position == 0')['LV4']\n",
    "LV4_blu_mid = df.query('Area == 0 & Position == 1')['LV4']\n",
    "LV4_blu_bot = df.query('Area == 0 & Position == 2')['LV4']\n",
    "\n",
    "LV6_blu_top = df.query('Area == 0 & Position == 0')['LV6']\n",
    "LV6_blu_mid = df.query('Area == 0 & Position == 1')['LV6']\n",
    "LV6_blu_bot = df.query('Area == 0 & Position == 2')['LV6']\n",
    "\n",
    "LV8_blu_top = df.query('Area == 0 & Position == 0')['LV8']\n",
    "LV8_blu_mid = df.query('Area == 0 & Position == 1')['LV8']\n",
    "LV8_blu_bot = df.query('Area == 0 & Position == 2')['LV8']\n",
    "\n",
    "# Area: 1\n",
    "LV4_gre_top = df.query('Area == 1 & Position == 0')['LV4']\n",
    "LV4_gre_mid = df.query('Area == 1 & Position == 1')['LV4']\n",
    "LV4_gre_bot = df.query('Area == 1 & Position == 2')['LV4']\n",
    "\n",
    "LV6_gre_top = df.query('Area == 1 & Position == 0')['LV6']\n",
    "LV6_gre_mid = df.query('Area == 1 & Position == 1')['LV6']\n",
    "LV6_gre_bot = df.query('Area == 1 & Position == 2')['LV6']\n",
    "\n",
    "LV8_gre_top = df.query('Area == 1 & Position == 0')['LV8']\n",
    "LV8_gre_mid = df.query('Area == 1 & Position == 1')['LV8']\n",
    "LV8_gre_bot = df.query('Area == 1 & Position == 2')['LV8']\n",
    "\n",
    "# Area: 2\n",
    "LV4_red_top = df.query('Area == 2 & Position == 0')['LV4']\n",
    "LV4_red_mid = df.query('Area == 2 & Position == 1')['LV4']\n",
    "LV4_red_bot = df.query('Area == 2 & Position == 2')['LV4']\n",
    "\n",
    "LV6_red_top = df.query('Area == 2 & Position == 0')['LV6']\n",
    "LV6_red_mid = df.query('Area == 2 & Position == 1')['LV6']\n",
    "LV6_red_bot = df.query('Area == 2 & Position == 2')['LV6']\n",
    "\n",
    "LV8_red_top = df.query('Area == 2 & Position == 0')['LV8']\n",
    "LV8_red_mid = df.query('Area == 2 & Position == 1')['LV8']\n",
    "LV8_red_bot = df.query('Area == 2 & Position == 2')['LV8']\n",
    "\n",
    "# Area: 3\n",
    "LV4_pin_top = df.query('Area == 3 & Position == 0')['LV4']\n",
    "LV4_pin_mid = df.query('Area == 3 & Position == 1')['LV4']\n",
    "LV4_pin_bot = df.query('Area == 3 & Position == 2')['LV4']\n",
    "\n",
    "LV6_pin_top = df.query('Area == 3 & Position == 0')['LV6']\n",
    "LV6_pin_mid = df.query('Area == 3 & Position == 1')['LV6']\n",
    "LV6_pin_bot = df.query('Area == 3 & Position == 2')['LV6']\n",
    "\n",
    "LV8_pin_top = df.query('Area == 3 & Position == 0')['LV8']\n",
    "LV8_pin_mid = df.query('Area == 3 & Position == 1')['LV8']\n",
    "LV8_pin_bot = df.query('Area == 3 & Position == 2')['LV8']\n",
    "\n",
    "# Area: 4\n",
    "LV4_yel_top = df.query('Area == 4 & Position == 0')['LV4']\n",
    "LV4_yel_mid = df.query('Area == 4 & Position == 1')['LV4']\n",
    "LV4_yel_bot = df.query('Area == 4 & Position == 2')['LV4']\n",
    "\n",
    "LV6_yel_top = df.query('Area == 4 & Position == 0')['LV6']\n",
    "LV6_yel_mid = df.query('Area == 4 & Position == 1')['LV6']\n",
    "LV6_yel_bot = df.query('Area == 4 & Position == 2')['LV6']\n",
    "\n",
    "LV8_yel_top = df.query('Area == 4 & Position == 0')['LV8']\n",
    "LV8_yel_mid = df.query('Area == 4 & Position == 1')['LV8']\n",
    "LV8_yel_bot = df.query('Area == 4 & Position == 2')['LV8']"
   ]
  },
  {
   "cell_type": "markdown",
   "id": "19c35cd8-0f29-47ab-810c-1ff424a3c226",
   "metadata": {},
   "source": [
    "### Blue"
   ]
  },
  {
   "cell_type": "code",
   "execution_count": 89,
   "id": "2142ec62-00e2-4920-b4d6-36db9ce3c75c",
   "metadata": {},
   "outputs": [
    {
     "data": {
      "text/plain": [
       "(0.5122522048176913, 0.6038306781440823)"
      ]
     },
     "execution_count": 89,
     "metadata": {},
     "output_type": "execute_result"
    }
   ],
   "source": [
    "LV4_blu_fstat, LV4_blu_pvalue = stats.f_oneway(LV4_blu_top, LV4_blu_mid, LV4_blu_bot)\n",
    "LV4_blu_fstat, LV4_blu_pvalue"
   ]
  },
  {
   "cell_type": "code",
   "execution_count": 90,
   "id": "51731e42-5a36-4e97-ad49-014d99e65d8f",
   "metadata": {},
   "outputs": [
    {
     "data": {
      "text/plain": [
       "(0.259184039167409, 0.7732371690038411)"
      ]
     },
     "execution_count": 90,
     "metadata": {},
     "output_type": "execute_result"
    }
   ],
   "source": [
    "LV6_blu_fstat, LV6_blu_pvalue = stats.f_oneway(LV6_blu_top, LV6_blu_mid, LV6_blu_bot)\n",
    "LV6_blu_fstat, LV6_blu_pvalue"
   ]
  },
  {
   "cell_type": "code",
   "execution_count": 91,
   "id": "084fe227-0a61-4026-bc9e-7241903558ab",
   "metadata": {},
   "outputs": [
    {
     "data": {
      "text/plain": [
       "(0.1353699842219706, 0.8738752056068148)"
      ]
     },
     "execution_count": 91,
     "metadata": {},
     "output_type": "execute_result"
    }
   ],
   "source": [
    "LV8_blu_fstat, LV8_blu_pvalue = stats.f_oneway(LV8_blu_top, LV8_blu_mid, LV8_blu_bot)\n",
    "LV8_blu_fstat, LV8_blu_pvalue"
   ]
  },
  {
   "cell_type": "markdown",
   "id": "5e30e2ec-136f-428b-8fe6-c5fb2909d8c3",
   "metadata": {},
   "source": [
    "### Green"
   ]
  },
  {
   "cell_type": "code",
   "execution_count": 92,
   "id": "41e2797e-f043-454c-82cc-356ca24fd4a1",
   "metadata": {},
   "outputs": [
    {
     "data": {
      "text/plain": [
       "(2.8221217770180567, 0.07388914369728515)"
      ]
     },
     "execution_count": 92,
     "metadata": {},
     "output_type": "execute_result"
    }
   ],
   "source": [
    "LV4_gre_fstat, LV4_gre_pvalue = stats.f_oneway(LV4_gre_top, LV4_gre_mid, LV4_gre_bot)\n",
    "LV4_gre_fstat, LV4_gre_pvalue"
   ]
  },
  {
   "cell_type": "code",
   "execution_count": 94,
   "id": "a1a4f87e-c5a4-48b6-998a-6175a5246825",
   "metadata": {},
   "outputs": [
    {
     "data": {
      "text/plain": [
       "(2.840066991164798, 0.07276600085109794)"
      ]
     },
     "execution_count": 94,
     "metadata": {},
     "output_type": "execute_result"
    }
   ],
   "source": [
    "LV6_gre_fstat, LV6_gre_pvalue = stats.f_oneway(LV6_gre_top, LV6_gre_mid, LV6_gre_bot)\n",
    "LV6_gre_fstat, LV6_gre_pvalue"
   ]
  },
  {
   "cell_type": "code",
   "execution_count": 95,
   "id": "b659163d-9937-405f-9c09-79d9ab81f595",
   "metadata": {},
   "outputs": [
    {
     "data": {
      "text/plain": [
       "(3.365253857526456, 0.0467662031277302)"
      ]
     },
     "execution_count": 95,
     "metadata": {},
     "output_type": "execute_result"
    }
   ],
   "source": [
    "LV8_gre_fstat, LV8_gre_pvalue = stats.f_oneway(LV8_gre_top, LV8_gre_mid, LV8_gre_bot)\n",
    "LV8_gre_fstat, LV8_gre_pvalue"
   ]
  },
  {
   "cell_type": "markdown",
   "id": "80c0d2bc-f18b-4662-9497-24eda9258a60",
   "metadata": {},
   "source": [
    "### Red"
   ]
  },
  {
   "cell_type": "code",
   "execution_count": 96,
   "id": "f1015ddd-9e79-4542-ab7d-f1570c018970",
   "metadata": {},
   "outputs": [
    {
     "data": {
      "text/plain": [
       "(1.202007471141465, 0.31341047264365884)"
      ]
     },
     "execution_count": 96,
     "metadata": {},
     "output_type": "execute_result"
    }
   ],
   "source": [
    "LV4_red_fstat, LV4_red_pvalue = stats.f_oneway(LV4_red_top, LV4_red_mid, LV4_red_bot)\n",
    "LV4_red_fstat, LV4_red_pvalue"
   ]
  },
  {
   "cell_type": "code",
   "execution_count": 97,
   "id": "c40d4bed-5899-4418-86c4-ed263c0c9cb9",
   "metadata": {},
   "outputs": [
    {
     "data": {
      "text/plain": [
       "(0.04192799578529871, 0.9589898247371054)"
      ]
     },
     "execution_count": 97,
     "metadata": {},
     "output_type": "execute_result"
    }
   ],
   "source": [
    "LV6_red_fstat, LV6_red_pvalue = stats.f_oneway(LV6_red_top, LV6_red_mid, LV6_red_bot)\n",
    "LV6_red_fstat, LV6_red_pvalue"
   ]
  },
  {
   "cell_type": "code",
   "execution_count": 98,
   "id": "f5c23215-bf71-4e7c-9426-baa6686bbade",
   "metadata": {},
   "outputs": [
    {
     "data": {
      "text/plain": [
       "(0.04081210181631912, 0.9600578736103722)"
      ]
     },
     "execution_count": 98,
     "metadata": {},
     "output_type": "execute_result"
    }
   ],
   "source": [
    "LV8_red_fstat, LV8_red_pvalue = stats.f_oneway(LV8_red_top, LV8_red_mid, LV8_red_bot)\n",
    "LV8_red_fstat, LV8_red_pvalue"
   ]
  },
  {
   "cell_type": "markdown",
   "id": "fa723017-a8a5-4cb0-ab80-f6392ca5cc72",
   "metadata": {},
   "source": [
    "### Pink"
   ]
  },
  {
   "cell_type": "code",
   "execution_count": 105,
   "id": "ed1a67aa-dede-44ab-8294-6e8221968e97",
   "metadata": {},
   "outputs": [
    {
     "data": {
      "text/plain": [
       "(0.36587421201954645, 0.6963682141132543)"
      ]
     },
     "execution_count": 105,
     "metadata": {},
     "output_type": "execute_result"
    }
   ],
   "source": [
    "LV4_pin_fstat, LV4_pin_pvalue = stats.f_oneway(LV4_pin_top, LV4_pin_mid, LV4_pin_bot)\n",
    "LV4_pin_fstat, LV4_pin_pvalue"
   ]
  },
  {
   "cell_type": "code",
   "execution_count": 103,
   "id": "bbb1e648-ae08-4c33-8eb7-87b38b66c406",
   "metadata": {},
   "outputs": [
    {
     "data": {
      "text/plain": [
       "(0.4721420218646577, 0.6278128994352445)"
      ]
     },
     "execution_count": 103,
     "metadata": {},
     "output_type": "execute_result"
    }
   ],
   "source": [
    "LV6_pin_fstat, LV6_pin_pvalue = stats.f_oneway(LV6_pin_top, LV6_pin_mid, LV6_pin_bot)\n",
    "LV6_pin_fstat, LV6_pin_pvalue"
   ]
  },
  {
   "cell_type": "code",
   "execution_count": 104,
   "id": "edb22e62-59bf-4cc9-b6e9-21527eb2b120",
   "metadata": {},
   "outputs": [
    {
     "data": {
      "text/plain": [
       "(0.2718070217587091, 0.7636905975079189)"
      ]
     },
     "execution_count": 104,
     "metadata": {},
     "output_type": "execute_result"
    }
   ],
   "source": [
    "LV8_pin_fstat, LV8_pin_pvalue = stats.f_oneway(LV8_pin_top, LV8_pin_mid, LV8_pin_bot)\n",
    "LV8_pin_fstat, LV8_pin_pvalue"
   ]
  },
  {
   "cell_type": "markdown",
   "id": "f97533f4-3cda-4e32-a0f6-c34e3b32941f",
   "metadata": {},
   "source": [
    "### Yellow"
   ]
  },
  {
   "cell_type": "code",
   "execution_count": 100,
   "id": "ea4efba3-12cf-42f6-b524-aad3df958c13",
   "metadata": {},
   "outputs": [
    {
     "data": {
      "text/plain": [
       "(0.6022518045519608, 0.5534847862001244)"
      ]
     },
     "execution_count": 100,
     "metadata": {},
     "output_type": "execute_result"
    }
   ],
   "source": [
    "LV4_yel_fstat, LV4_yel_pvalue = stats.f_oneway(LV4_yel_top, LV4_yel_mid, LV4_yel_bot)\n",
    "LV4_yel_fstat, LV4_yel_pvalue"
   ]
  },
  {
   "cell_type": "code",
   "execution_count": 101,
   "id": "8f0b9cab-20d1-4713-b195-46c88c96cd85",
   "metadata": {},
   "outputs": [
    {
     "data": {
      "text/plain": [
       "(0.2560846942725727, 0.7756004572776191)"
      ]
     },
     "execution_count": 101,
     "metadata": {},
     "output_type": "execute_result"
    }
   ],
   "source": [
    "LV6_yel_fstat, LV6_yel_pvalue = stats.f_oneway(LV6_yel_top, LV6_yel_mid, LV6_yel_bot)\n",
    "LV6_yel_fstat, LV6_yel_pvalue"
   ]
  },
  {
   "cell_type": "code",
   "execution_count": 99,
   "id": "a264e4d4-97c6-4a7b-b7c6-23fb15718bd6",
   "metadata": {},
   "outputs": [
    {
     "data": {
      "text/plain": [
       "(0.572098709013121, 0.5698374827733927)"
      ]
     },
     "execution_count": 99,
     "metadata": {},
     "output_type": "execute_result"
    }
   ],
   "source": [
    "LV8_yel_fstat, LV8_yel_pvalue = stats.f_oneway(LV8_yel_top, LV8_yel_mid, LV8_yel_bot)\n",
    "LV8_yel_fstat, LV8_yel_pvalue"
   ]
  }
 ],
 "metadata": {
  "kernelspec": {
   "display_name": "Python 3",
   "language": "python",
   "name": "python3"
  },
  "language_info": {
   "codemirror_mode": {
    "name": "ipython",
    "version": 3
   },
   "file_extension": ".py",
   "mimetype": "text/x-python",
   "name": "python",
   "nbconvert_exporter": "python",
   "pygments_lexer": "ipython3",
   "version": "3.8.8"
  }
 },
 "nbformat": 4,
 "nbformat_minor": 5
}
